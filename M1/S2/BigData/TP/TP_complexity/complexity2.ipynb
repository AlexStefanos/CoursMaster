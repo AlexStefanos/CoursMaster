{
 "cells": [
  {
   "cell_type": "markdown",
   "metadata": {},
   "source": [
    "# Complexity analysis - Practical session 2: NP Completness and the backpack/knapsack problem\n",
    "\n",
    "In this TP we propose to examine different ways of coding and solving problems of the NP class. We are interested in the problem of the backpack.\n",
    "We suppose that we have $l$ items each having a utility (or gain) $u_i$. Each of these items has a weight $m_i$. We try to maximize the gain by packing\n",
    "as many items as possible in a maximum capacity bag $M$. We distinguish two interesting cases :\n",
    " - the items are only available in one copy, i.e. we are trying to determine the quantity $x_i \\in \\{0,1\\}$ associated with each item, \n",
    " - one can take several times the same item, i.e. $x_i \\in \\mathbb{N}^+$. The problem is formalized as follows:\n",
    "\\begin{aligned}\n",
    "U & =  \\text{max}_{x_i} \\sum_i x_i u_i \\\\\\\n",
    "    & \\text{s.c.} \\sum_i x_i m_i \\leq M\n",
    "\\end{aligned}\n",
    "\n",
    "We will examine different methods to solve this problem allowing you to feel its complexity. You generate for each test that you will make a utility vector and a vector \n",
    "of weights that will be randomly drawn integers in $[1.10]$. You will set $M$ according to the number of possible items, for example if you have $n$ items (which will be a \n",
    "parameter of your test procedure), you will be able to choose $M=7n$. You will write a function `solve_bag` for each variant that will take the utility, weight and $M$ vectors as parameters and \n",
    "will return the maximum value (total gain) reached, as well as the time related to the calculation. \n",
    "\n",
    "Write the code below that will generate the possible data for this problem.\n"
   ]
  },
  {
   "cell_type": "code",
   "execution_count": null,
   "metadata": {},
   "outputs": [],
   "source": []
  },
  {
   "source": [
    "## Brute force approach\n",
    "\n",
    "We don't bother with complex considerations here: write a method that calculates all possible combinations ($2^n$!), evaluates them, and returns the optimal gain. \n"
   ],
   "cell_type": "markdown",
   "metadata": {}
  },
  {
   "cell_type": "code",
   "execution_count": null,
   "metadata": {},
   "outputs": [],
   "source": []
  },
  {
   "source": [
    "Same thing but this time you can choose the same item several times. For each item we can determine the maximum limit of the number of times we can choose this item as the integer part of \n",
    "$M/m_i$. Be careful, calculation times can become very long for high $M$ values."
   ],
   "cell_type": "markdown",
   "metadata": {}
  },
  {
   "cell_type": "code",
   "execution_count": null,
   "metadata": {},
   "outputs": [],
   "source": []
  },
  {
   "source": [
    "## Greedy approach\n",
    "\n",
    "For each object the gain/mass ratio ($u_i/m_i$) is calculated. The objects are sorted in descending order, then the bag is filled in this order until no more items can be added.\n",
    "Compare the quality of the solution obtained with that of the previous exact solver. In particular, find cases where the gluttonous strategy does not give the optimal solution of the \n",
    "problem. Here again you will code two versions of the function (only one item available and unlimited number of items available). \n"
   ],
   "cell_type": "markdown",
   "metadata": {}
  },
  {
   "cell_type": "code",
   "execution_count": null,
   "metadata": {},
   "outputs": [],
   "source": []
  },
  {
   "source": [
    "## Dynamic programming\n",
    "\n",
    "We limit ourselves here to the case where only one item of each object is available.\n",
    "\n",
    "The idea of dynamic programming is to solve incrementally simpler versions of the problem, and to store intermediate results necessary to \n",
    "add new variables. A time-space compromise is then made. In the case of the backpack problem, the problem is said to be with *optimal substructure*, that is to say that we \n",
    "can find the optimal value of the problem at variable $i$ from the optimal value at variable $i-1$. \n",
    "The following quantity $P(k,m)$, describing the state of the system for k variables, is defined by recurrence :\n",
    "$$\n",
    "\\begin{eqnarray}\n",
    "P(k,m) & = & \\text{max}_{x_i} \\sum^k_i x_i u_i \\\\\n",
    "    &    & \\text{s.c.} \\sum_i x_i m_i \\leq m\n",
    "\\end{eqnarray}\n",
    "$$\n",
    "then the optimal solution is either :\n",
    " - the optimal solution $P(k-1,m)$ where one chooses not to add the item, i.e. $x_k=0$.\n",
    "- the optimal solution $P(k-1,m-m_k)+u_k$ where we choose to add the item, i.e. $x_k=1$.\n",
    "\n",
    "You just have to build a table of the different possibilities $P(k,m)$. Once this table is built, you just have to start from the element \n",
    "$P(k,M)$ and go back to the $P(0,.)$ element to find out whether you choose the item or not and thus construct the solution.\n",
    "\n",
    "We note then that the complexity of the algorithm is in time and space $o(nM)$. Although polynomial, we have not shown that $P=NP$: \n",
    "since the coding of $M$ is done on $log(M)$ bits, we remain within the exponential complexity of the size of the input.\n",
    "  \n",
    "\n",
    "Code and test this algorithm.\n",
    "\n",
    "Optionnaly, you can get some help from the Wikipedia page on [0-1 knapasack problem](https://en.wikipedia.org/wiki/Knapsack_problem)."
   ],
   "cell_type": "markdown",
   "metadata": {}
  },
  {
   "cell_type": "code",
   "execution_count": null,
   "metadata": {},
   "outputs": [],
   "source": []
  },
  {
   "source": [
    "## Summary and final conclusions\n",
    "For each method, vary the number of items $n$, and measure an average time taken on $10$ resolution of the problem. Draw the corresponding average execution time curves\n",
    "for the 3 methods in both cases (one or more times the same item, where dynamic programming will be excluded). "
   ],
   "cell_type": "markdown",
   "metadata": {}
  },
  {
   "cell_type": "code",
   "execution_count": null,
   "metadata": {},
   "outputs": [],
   "source": []
  }
 ],
 "metadata": {
  "kernelspec": {
   "display_name": "Python 3",
   "language": "python",
   "name": "python3"
  },
  "language_info": {
   "codemirror_mode": {
    "name": "ipython",
    "version": 3
   },
   "file_extension": ".py",
   "mimetype": "text/x-python",
   "name": "python",
   "nbconvert_exporter": "python",
   "pygments_lexer": "ipython3",
   "version": "3.7.7-final"
  }
 },
 "nbformat": 4,
 "nbformat_minor": 4
}